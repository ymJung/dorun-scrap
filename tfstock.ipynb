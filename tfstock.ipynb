{
 "cells": [
  {
   "cell_type": "code",
   "execution_count": 1,
   "metadata": {
    "collapsed": false,
    "scrolled": true
   },
   "outputs": [],
   "source": [
    "import tensorflow as tf\n",
    "import numpy as np\n",
    "import pymysql\n",
    "import datetime\n",
    "from datetime import date, timedelta\n",
    "import configparser\n",
    "\n",
    "cf = configparser.ConfigParser()\n",
    "cf.read('config.cfg')\n",
    "                               \n",
    "DB_IP = cf.get('db', 'DB_IP')\n",
    "DB_USER = cf.get('db', 'DB_USER')\n",
    "DB_PWD = cf.get('db', 'DB_PWD')\n",
    "DB_SCH = cf.get('db', 'DB_SCH')\n",
    "\n",
    "LIMIT_FILTER = 0.70\n",
    "\n",
    "INPUT_VEC_SIZE = LSTM_SIZE = 7\n",
    "TIME_STEP_SIZE = 60\n",
    "LABEL_SIZE = 3\n",
    "LSTM_DEPTH = 4\n",
    "\n",
    "BATCH_SIZE = 15000\n",
    "TRAIN_CNT = 600\n",
    "\n",
    "def init_weights(shape):\n",
    "    return tf.Variable(tf.random_normal(shape, stddev=0.01))"
   ]
  },
  {
   "cell_type": "code",
   "execution_count": 2,
   "metadata": {
    "collapsed": true
   },
   "outputs": [],
   "source": [
    "class DBManager :\n",
    "    def __init__(self):\n",
    "        self.conn = self.get_new_conn()\n",
    "        \n",
    "    def __del__(self):\n",
    "        self.conn.close()\n",
    "    def get_new_conn(self):\n",
    "        return pymysql.connect(host=DB_IP, user=DB_USER, password=DB_PWD, db=DB_SCH, charset='utf8mb4')\n",
    "    def get_codedates(self, code, limit):    \n",
    "        query = \"SELECT date FROM data.daily_stock WHERE code = %s AND date <= %s ORDER BY date ASC\"\n",
    "        cursor = self.conn.cursor()\n",
    "        cursor.execute(query, (code, limit))\n",
    "        code_dates = list()        \n",
    "        dates = cursor.fetchall()\n",
    "        for date in dates:\n",
    "            code_dates.append((code, date[0]))\n",
    "        return code_dates\n",
    "    def get_items(self, code, date, limit):\n",
    "        query = \"SELECT open, high, low, close, volume, hold_foreign, st_purchase_inst FROM data.daily_stock WHERE code = %s AND date >= %s ORDER BY date ASC LIMIT %s\"\n",
    "        cursor = self.conn.cursor()\n",
    "        cursor.execute(query, (code, date, limit))\n",
    "        items = cursor.fetchall()        \n",
    "        return items\n",
    "    \n",
    "    def get_codes(self):\n",
    "        query = \"SELECT DISTINCT code FROM data.daily_stock\"\n",
    "        cursor = self.conn.cursor()\n",
    "        cursor.execute(query)\n",
    "        return cursor.fetchall()\n",
    "    def insert_result(self, expect, code, analyze_at, potential, evaluate, volume) :\n",
    "        if self.check_exist(expect, code, analyze_at, evaluate):\n",
    "            print('duplicate', expect, code, analyze_at)\n",
    "        else :\n",
    "            cursor = self.conn.cursor()\n",
    "            print(expect,code,analyze_at,potential,volume,evaluate)\n",
    "            cursor.execute(\"INSERT INTO forecast (type, code, analyzeAt, potential, volume, evaluate, train) VALUES (%s, %s, %s, %s, %s, %s, %s)\",\n",
    "                           (expect, code, analyze_at, str(potential), volume, evaluate, TRAIN_CNT))\n",
    "            self.conn.commit()\n",
    "    def check_exist(self, expect, code, analyze_at, evaluate):\n",
    "        cursor = self.conn.cursor()\n",
    "        cursor.execute(\"SELECT count(*) as cnt FROM forecast WHERE type = %s AND code = %s AND analyzeAt = %s AND evaluate = %s AND train=%s\", (expect, code, analyze_at, evaluate, TRAIN_CNT))\n",
    "        cnt = cursor.fetchone()\n",
    "        return cnt[0] > 0\n",
    "    def get_volume(self, code, limit_at):\n",
    "        cursor = self.conn.cursor()\n",
    "        cursor.execute(\"SELECT count(*) as cnt FROM daily_stock WHERE code = %s AND date <= %s\", (code, limit_at))\n",
    "        cnt = cursor.fetchone()\n",
    "        return cnt[0]\n",
    "        \n",
    "    "
   ]
  },
  {
   "cell_type": "code",
   "execution_count": 3,
   "metadata": {
    "collapsed": true
   },
   "outputs": [],
   "source": [
    "def model(code, X, W, B, lstm_size):\n",
    "    XT = tf.transpose(X, [1, 0, 2]) \n",
    "    XR = tf.reshape(XT, [-1, lstm_size])\n",
    "    X_split = tf.split(0, TIME_STEP_SIZE, XR)\n",
    "    with tf.variable_scope(code, reuse=False):\n",
    "        cell = tf.nn.rnn_cell.GRUCell(lstm_size)\n",
    "        cell = tf.nn.rnn_cell.DropoutWrapper(cell = cell, output_keep_prob = 0.5)\n",
    "        cell = tf.nn.rnn_cell.MultiRNNCell([cell] * LSTM_DEPTH, state_is_tuple = True)\n",
    "\n",
    "    outputs, _states = tf.nn.rnn(cell, X_split, dtype=tf.float32)\n",
    "\n",
    "    return tf.matmul(outputs[-1], W) + B, cell.state_size # State size to initialize the stat\n"
   ]
  },
  {
   "cell_type": "code",
   "execution_count": 4,
   "metadata": {
    "collapsed": true
   },
   "outputs": [],
   "source": [
    "def read_series_datas(db, code_dates):\n",
    "    X = list()\n",
    "    Y = list()\n",
    "    for code_date in code_dates:\n",
    "        items = db.get_items(code_date[0], code_date[1], TIME_STEP_SIZE + EVALUATE_SIZE)\n",
    "  \n",
    "        if len(items) < (EVALUATE_SIZE + TIME_STEP_SIZE):\n",
    "            break\n",
    "        X.append(np.array(items[:TIME_STEP_SIZE]))\n",
    "\n",
    "        st_purchase_inst = items[-(EVALUATE_SIZE + 1)][EXPECT]\n",
    "        if st_purchase_inst == 0:\n",
    "            continue\n",
    "        for i in range(EVALUATE_SIZE, len(items) - EVALUATE_SIZE):\n",
    "            eval_inst = items[i][EXPECT]\n",
    "            eval_bef = items[EVALUATE_SIZE-i][EXPECT]\n",
    "            if eval_bef < eval_inst:\n",
    "                eval_bef = eval_inst           \n",
    "        \n",
    "        if (eval_bef - st_purchase_inst) / st_purchase_inst < -0.02: #percent ? cnt ? \n",
    "            Y.append((0., 0., 1.))\n",
    "        elif (eval_bef - st_purchase_inst) / st_purchase_inst > 0.03:\n",
    "            Y.append((1., 0., 0.))\n",
    "        else:\n",
    "            Y.append((0., 1., 0.))\n",
    "\n",
    "\n",
    "    arrX = np.array(X)    \n",
    "    meanX = np.mean(arrX, axis = 0)\n",
    "    stdX = np.std(arrX, axis = 0)\n",
    "    norX = (arrX - meanX) / stdX\n",
    "    norY = np.array(Y)\n",
    "    return norX, norY\n"
   ]
  },
  {
   "cell_type": "code",
   "execution_count": 5,
   "metadata": {
    "collapsed": true
   },
   "outputs": [],
   "source": [
    "def read_datas(db, code_dates):    \n",
    "    np.random.seed()\n",
    "    np.random.shuffle(code_dates)\n",
    "\n",
    "    trX = list()\n",
    "    trY = list()\n",
    "    trX, trY = read_series_datas(db, code_dates)\n",
    "    teX, teY = read_series_datas(db, code_dates)\n",
    "\n",
    "    return trX, trY, teX, teY"
   ]
  },
  {
   "cell_type": "code",
   "execution_count": 6,
   "metadata": {
    "collapsed": false,
    "scrolled": false
   },
   "outputs": [],
   "source": [
    "def analyze(code, limit):      \n",
    "    db = DBManager()\n",
    "    code_dates = db.get_codedates(code, limit)\n",
    "    tf.reset_default_graph()    \n",
    "    last = code_dates[-1][1]\n",
    "    trX, trY, teX, teY = read_datas(db, code_dates)\n",
    "    if (len(trX) == 0):\n",
    "        return None\n",
    "\n",
    "    X = tf.placeholder(tf.float32, [None, TIME_STEP_SIZE, INPUT_VEC_SIZE])\n",
    "    Y = tf.placeholder(tf.float32, [None, LABEL_SIZE])\n",
    "\n",
    "    W = init_weights([LSTM_SIZE, LABEL_SIZE])\n",
    "    B = init_weights([LABEL_SIZE])\n",
    "\n",
    "    py_x, state_size = model(code, X, W, B, LSTM_SIZE)\n",
    "\n",
    "    loss = tf.nn.softmax_cross_entropy_with_logits(py_x, Y)\n",
    "    cost = tf.reduce_mean(loss)\n",
    "    train_op = tf.train.RMSPropOptimizer(0.001, 0.9).minimize(cost)\n",
    "    predict_op = tf.argmax(py_x, 1)\n",
    "\n",
    "    # Launch the graph in a session\n",
    "    analyzed = None\n",
    "    with tf.Session() as sess:\n",
    "        # you need to initialize all variables\n",
    "        tf.global_variables_initializer().run()\n",
    "\n",
    "        for loop in range(TRAIN_CNT):\n",
    "            for start, end in zip(range(0, len(trX), BATCH_SIZE), range(BATCH_SIZE, len(trX)+1, BATCH_SIZE)):\n",
    "                sess.run(train_op, feed_dict={X: trX[start:end], Y: trY[start:end]})\n",
    "\n",
    "            test_indices = np.arange(len(teY))\n",
    "            org = teY[test_indices] ## fixfix\n",
    "            res = sess.run(predict_op, feed_dict={X: teX[test_indices], Y: teY[test_indices]})\n",
    "            \n",
    "            if loop == TRAIN_CNT-1 :\n",
    "                result = np.mean(np.argmax(org, axis=1) == res)                \n",
    "                analyzed = {\"code\":code, \"per\":round(result, 2), \"date\":limit}\n",
    "    return analyzed\n"
   ]
  },
  {
   "cell_type": "code",
   "execution_count": null,
   "metadata": {
    "collapsed": false,
    "scrolled": false
   },
   "outputs": [
    {
     "name": "stdout",
     "output_type": "stream",
     "text": [
      "6 A000030 2017-02-25 00:00:00 0.42 561 3\n",
      "6 A000050 2017-02-25 00:00:00 0.21 3263 3\n",
      "6 A000070 2017-02-25 00:00:00 0.5 3263 3\n",
      "6 A000080 2017-02-25 00:00:00 0.29 1823 3\n",
      "6 A000100 2017-02-25 00:00:00 0.2 3263 3\n",
      "6 A000120 2017-02-25 00:00:00 0.7 3263 3\n",
      "6 A000140 2017-02-25 00:00:00 0.14 3263 3\n",
      "6 A000150 2017-02-25 00:00:00 0.33 3263 3\n",
      "6 A000210 2017-02-25 00:00:00 0.25 3263 3\n",
      "6 A000230 2017-02-25 00:00:00 0.4 3263 3\n",
      "6 A000240 2017-02-25 00:00:00 0.36 3263 3\n"
     ]
    }
   ],
   "source": [
    "target_at = datetime.datetime.strptime('2017-02-24', '%Y-%m-%d')\n",
    "loop_size = timedelta(days=1)\n",
    "limit_at = date(2017,2,25)\n",
    "\n",
    "EXPECT = 6 ##open, high, low, close, volume, hold_foreign, st_purchase_inst\n",
    "EVALUATE_SIZE = 3\n",
    "#target_at = datetime.datetime.strptime(limit, '%Y-%m-%d') + timedelta(days=EVALUATE_SIZE)\n",
    "\n",
    "while limit_at > target_at.date():    \n",
    "    target_at += loop_size\n",
    "    codes = DBManager().get_codes()\n",
    "    for code in codes : \n",
    "        analyzed = analyze(code[0], target_at)\n",
    "        if analyzed is None:\n",
    "            continue\n",
    "        db = DBManager()\n",
    "        volume = db.get_volume(analyzed[\"code\"], target_at)    \n",
    "        db.insert_result(EXPECT, analyzed[\"code\"], target_at, analyzed[\"per\"], EVALUATE_SIZE, volume)        \n",
    "\n",
    "    print('done')"
   ]
  },
  {
   "cell_type": "code",
   "execution_count": null,
   "metadata": {
    "collapsed": true
   },
   "outputs": [],
   "source": []
  }
 ],
 "metadata": {
  "kernelspec": {
   "display_name": "Python 3",
   "language": "python",
   "name": "python3"
  },
  "language_info": {
   "codemirror_mode": {
    "name": "ipython",
    "version": 3
   },
   "file_extension": ".py",
   "mimetype": "text/x-python",
   "name": "python",
   "nbconvert_exporter": "python",
   "pygments_lexer": "ipython3",
   "version": "3.4.5"
  }
 },
 "nbformat": 4,
 "nbformat_minor": 2
}
