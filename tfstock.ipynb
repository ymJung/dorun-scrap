{
 "cells": [
  {
   "cell_type": "code",
   "execution_count": 9,
   "metadata": {
    "collapsed": false,
    "scrolled": true
   },
   "outputs": [],
   "source": [
    "import tensorflow as tf\n",
    "import numpy as np\n",
    "import pymysql\n",
    "from datetime import date, timedelta\n",
    "\n",
    "\n",
    "DB_IP = '192.168.1.210'\n",
    "DB_USER = 'root'\n",
    "DB_PWD = '1234'\n",
    "DB_SCH = 'data'\n",
    "DB_ENC = 'utf8mb4'\n",
    "LIMIT_FILTER = 0.70\n",
    "\n",
    "INPUT_VEC_SIZE = LSTM_SIZE = 7\n",
    "TIME_STEP_SIZE = 60\n",
    "LABEL_SIZE = 3\n",
    "LSTM_DEPTH = 4\n",
    "\n",
    "BATCH_SIZE = 15000\n",
    "TRAIN_CNT = 100\n",
    "\n",
    "def init_weights(shape):\n",
    "    return tf.Variable(tf.random_normal(shape, stddev=0.01))"
   ]
  },
  {
   "cell_type": "code",
   "execution_count": 10,
   "metadata": {
    "collapsed": true
   },
   "outputs": [],
   "source": [
    "class DBManager :\n",
    "    def __init__(self):\n",
    "        self.DB_IP = '192.168.1.210'\n",
    "        self.DB_USER = 'root'\n",
    "        self.DB_PWD = '1234'\n",
    "        self.DB_SCH = 'data'\n",
    "        self.DB_ENC = 'utf8mb4'\n",
    "        self.conn = self.get_new_conn()\n",
    "        \n",
    "    def __del__(self):\n",
    "        self.conn.close()\n",
    "    def get_new_conn(self):\n",
    "        return pymysql.connect(host=self.DB_IP, user=self.DB_USER, password=self.DB_PWD, db=self.DB_SCH, charset=self.DB_ENC)\n",
    "    def get_codedates(self, code, limit):    \n",
    "        query = \"SELECT date FROM data.daily_stock WHERE code = %s AND date <= %s ORDER BY date ASC\"\n",
    "        cursor = self.conn.cursor()\n",
    "        cursor.execute(query, (code, limit))\n",
    "        code_dates = list()        \n",
    "        dates = cursor.fetchall()\n",
    "        for date in dates:\n",
    "            code_dates.append((code, date[0]))\n",
    "        return code_dates\n",
    "    def get_items(self, code, date, limit):\n",
    "        query = \"SELECT open, high, low, close, volume, hold_foreign, st_purchase_inst FROM data.daily_stock WHERE code = %s AND date >= %s ORDER BY date ASC LIMIT %s\"\n",
    "        cursor = self.conn.cursor()\n",
    "        cursor.execute(query, (code, date, limit))\n",
    "        items = cursor.fetchall()        \n",
    "        return items\n",
    "    \n",
    "    def get_codes(self):\n",
    "        query = \"SELECT DISTINCT code FROM data.daily_stock\"\n",
    "        cursor = self.conn.cursor()\n",
    "        cursor.execute(query)\n",
    "        return cursor.fetchall()\n",
    "    def insert_result(self, expect, code, analyze_at, potential, evaluate, volume) :\n",
    "        if self.check_exist(expect, code, analyze_at, evaluate):\n",
    "            print('duplicate', expect, code, analyze_at)\n",
    "        else :\n",
    "            cursor = self.conn.cursor()\n",
    "            print(expect,code,analyze_at,potential,volume,evaluate)\n",
    "            cursor.execute(\"INSERT INTO forecast (type, code, analyzeAt, potential, volume, evaluate) VALUES (%s, %s, %s, %s, %s, %s)\",\n",
    "                           (expect, code, analyze_at, str(potential), volume, evaluate))\n",
    "            self.conn.commit()\n",
    "    def check_exist(self, expect, code, analyze_at, evaluate):\n",
    "        cursor = self.conn.cursor()\n",
    "        cursor.execute(\"SELECT count(*) as cnt FROM forecast WHERE type = %s AND code = %s AND analyzeAt = %s AND evaluate = %s\", (expect, code, analyze_at, evaluate))\n",
    "        cnt = cursor.fetchone()\n",
    "        return cnt[0] > 0\n",
    "    def get_volume(self, code, limit_at):\n",
    "        cursor = self.conn.cursor()\n",
    "        cursor.execute(\"SELECT count(*) as cnt FROM daily_stock WHERE code = %s AND date <= %s\", (code, limit_at))\n",
    "        cnt = cursor.fetchone()\n",
    "        return cnt[0]\n",
    "        \n",
    "    "
   ]
  },
  {
   "cell_type": "code",
   "execution_count": 11,
   "metadata": {
    "collapsed": true
   },
   "outputs": [],
   "source": [
    "def model(code, X, W, B, lstm_size):\n",
    "    XT = tf.transpose(X, [1, 0, 2]) \n",
    "    XR = tf.reshape(XT, [-1, lstm_size])\n",
    "    X_split = tf.split(0, TIME_STEP_SIZE, XR)\n",
    "    with tf.variable_scope(code, reuse=False):\n",
    "        cell = tf.nn.rnn_cell.GRUCell(lstm_size)\n",
    "        cell = tf.nn.rnn_cell.DropoutWrapper(cell = cell, output_keep_prob = 0.5)\n",
    "        cell = tf.nn.rnn_cell.MultiRNNCell([cell] * LSTM_DEPTH, state_is_tuple = True)\n",
    "\n",
    "    outputs, _states = tf.nn.rnn(cell, X_split, dtype=tf.float32)\n",
    "\n",
    "    return tf.matmul(outputs[-1], W) + B, cell.state_size # State size to initialize the stat\n"
   ]
  },
  {
   "cell_type": "code",
   "execution_count": 16,
   "metadata": {
    "collapsed": true
   },
   "outputs": [],
   "source": [
    "def read_series_datas(db, code_dates):\n",
    "    X = list()\n",
    "    Y = list()\n",
    "    for code_date in code_dates:\n",
    "        items = db.get_items(code_date[0], code_date[1], TIME_STEP_SIZE + EVALUATE_SIZE)\n",
    "  \n",
    "        if len(items) < (EVALUATE_SIZE + TIME_STEP_SIZE):\n",
    "            break\n",
    "        X.append(np.array(items[:TIME_STEP_SIZE]))\n",
    "\n",
    "        st_purchase_inst = items[-(EVALUATE_SIZE + 1)][EXPECT]\n",
    "        if st_purchase_inst == 0:\n",
    "            continue\n",
    "        for i in range(EVALUATE_SIZE, len(items) - EVALUATE_SIZE):\n",
    "            eval_inst = items[i][EXPECT]\n",
    "            eval_bef = items[EVALUATE_SIZE-i][EXPECT]\n",
    "            if eval_bef < eval_inst:\n",
    "                eval_bef = eval_inst           \n",
    "        \n",
    "        if (eval_bef - st_purchase_inst) / st_purchase_inst < -0.02: #percent ? cnt ? \n",
    "            Y.append((0., 0., 1.))\n",
    "        elif (eval_bef - st_purchase_inst) / st_purchase_inst > 0.03:\n",
    "            Y.append((1., 0., 0.))\n",
    "        else:\n",
    "            Y.append((0., 1., 0.))\n",
    "\n",
    "\n",
    "    arrX = np.array(X)    \n",
    "    meanX = np.mean(arrX, axis = 0)\n",
    "    stdX = np.std(arrX, axis = 0)\n",
    "    norX = (arrX - meanX) / stdX\n",
    "    norY = np.array(Y)\n",
    "    return norX, norY\n"
   ]
  },
  {
   "cell_type": "code",
   "execution_count": 17,
   "metadata": {
    "collapsed": true
   },
   "outputs": [],
   "source": [
    "def read_datas(db, code_dates):    \n",
    "    np.random.seed()\n",
    "    np.random.shuffle(code_dates)\n",
    "\n",
    "    trX = list()\n",
    "    trY = list()\n",
    "    trX, trY = read_series_datas(db, code_dates)\n",
    "    teX, teY = read_series_datas(db, code_dates)\n",
    "\n",
    "    return trX, trY, teX, teY"
   ]
  },
  {
   "cell_type": "code",
   "execution_count": 18,
   "metadata": {
    "collapsed": false,
    "scrolled": false
   },
   "outputs": [],
   "source": [
    "def analyze(code, limit):      \n",
    "    db = DBManager()\n",
    "    code_dates = db.get_codedates(code, limit)\n",
    "    tf.reset_default_graph()    \n",
    "    last = code_dates[-1][1]\n",
    "    trX, trY, teX, teY = read_datas(db, code_dates)\n",
    "    if (len(trX) == 0):\n",
    "        return None\n",
    "\n",
    "    X = tf.placeholder(tf.float32, [None, TIME_STEP_SIZE, INPUT_VEC_SIZE])\n",
    "    Y = tf.placeholder(tf.float32, [None, LABEL_SIZE])\n",
    "\n",
    "    W = init_weights([LSTM_SIZE, LABEL_SIZE])\n",
    "    B = init_weights([LABEL_SIZE])\n",
    "\n",
    "    py_x, state_size = model(code, X, W, B, LSTM_SIZE)\n",
    "\n",
    "    loss = tf.nn.softmax_cross_entropy_with_logits(py_x, Y)\n",
    "    cost = tf.reduce_mean(loss)\n",
    "    train_op = tf.train.RMSPropOptimizer(0.001, 0.9).minimize(cost)\n",
    "    predict_op = tf.argmax(py_x, 1)\n",
    "\n",
    "    # Launch the graph in a session\n",
    "    analyzed = None\n",
    "    with tf.Session() as sess:\n",
    "        # you need to initialize all variables\n",
    "        tf.initialize_all_variables ().run()\n",
    "\n",
    "        for loop in range(TRAIN_CNT):\n",
    "            for start, end in zip(range(0, len(trX), BATCH_SIZE), range(BATCH_SIZE, len(trX)+1, BATCH_SIZE)):\n",
    "                sess.run(train_op, feed_dict={X: trX[start:end], Y: trY[start:end]})\n",
    "\n",
    "            test_indices = np.arange(len(teY))\n",
    "            org = teY[test_indices] ## fixfix\n",
    "            res = sess.run(predict_op, feed_dict={X: teX[test_indices], Y: teY[test_indices]})\n",
    "            \n",
    "            if loop == TRAIN_CNT-1 :\n",
    "                result = np.mean(np.argmax(org, axis=1) == res)                \n",
    "                analyzed = {\"code\":code, \"per\":round(result, 2), \"date\":limit}\n",
    "                print(analyzed)\n",
    "    return analyzed\n"
   ]
  },
  {
   "cell_type": "code",
   "execution_count": 19,
   "metadata": {
    "collapsed": false,
    "scrolled": false
   },
   "outputs": [
    {
     "name": "stderr",
     "output_type": "stream",
     "text": [
      "/usr/local/lib/python3.4/site-packages/numpy/core/fromnumeric.py:2889: RuntimeWarning: Mean of empty slice.\n",
      "  out=out, **kwargs)\n",
      "/usr/local/lib/python3.4/site-packages/numpy/core/_methods.py:80: RuntimeWarning: invalid value encountered in double_scalars\n",
      "  ret = ret.dtype.type(ret / rcount)\n",
      "/usr/local/lib/python3.4/site-packages/numpy/core/_methods.py:135: RuntimeWarning: Degrees of freedom <= 0 for slice\n",
      "  keepdims=keepdims)\n",
      "/usr/local/lib/python3.4/site-packages/numpy/core/_methods.py:105: RuntimeWarning: invalid value encountered in true_divide\n",
      "  arrmean, rcount, out=arrmean, casting='unsafe', subok=False)\n",
      "/usr/local/lib/python3.4/site-packages/numpy/core/_methods.py:127: RuntimeWarning: invalid value encountered in double_scalars\n",
      "  ret = ret.dtype.type(ret / rcount)\n"
     ]
    },
    {
     "name": "stdout",
     "output_type": "stream",
     "text": [
      "{'code': 'A000050', 'per': 0.5, 'date': '2017-02-19'}\n",
      "{'code': 'A000070', 'per': 0.27000000000000002, 'date': '2017-02-19'}\n",
      "{'code': 'A000080', 'per': 0.59999999999999998, 'date': '2017-02-19'}\n",
      "{'code': 'A000100', 'per': 0.46000000000000002, 'date': '2017-02-19'}\n",
      "{'code': 'A000120', 'per': 0.23999999999999999, 'date': '2017-02-19'}\n",
      "{'code': 'A000140', 'per': 0.48999999999999999, 'date': '2017-02-19'}\n",
      "{'code': 'A000150', 'per': 0.14000000000000001, 'date': '2017-02-19'}\n"
     ]
    },
    {
     "name": "stderr",
     "output_type": "stream",
     "text": [
      "/usr/local/lib/python3.4/site-packages/ipykernel/__main__.py:31: RuntimeWarning: invalid value encountered in true_divide\n"
     ]
    },
    {
     "name": "stdout",
     "output_type": "stream",
     "text": [
      "{'code': 'A000210', 'per': 0.0, 'date': '2017-02-19'}\n",
      "{'code': 'A000230', 'per': 0.050000000000000003, 'date': '2017-02-19'}\n",
      "{'code': 'A000270', 'per': 0.12, 'date': '2017-02-19'}\n",
      "{'code': 'A000640', 'per': 0.32000000000000001, 'date': '2017-02-19'}\n",
      "{'code': 'A000660', 'per': 0.46000000000000002, 'date': '2017-02-19'}\n",
      "{'code': 'A000670', 'per': 0.14000000000000001, 'date': '2017-02-19'}\n",
      "{'code': 'A000720', 'per': 0.31, 'date': '2017-02-19'}\n",
      "{'code': 'A000810', 'per': 0.20999999999999999, 'date': '2017-02-19'}\n",
      "{'code': 'A000880', 'per': 0.11, 'date': '2017-02-19'}\n",
      "{'code': 'A000990', 'per': 0.14999999999999999, 'date': '2017-02-19'}\n",
      "{'code': 'A001040', 'per': 0.22, 'date': '2017-02-19'}\n",
      "{'code': 'A001060', 'per': 0.44, 'date': '2017-02-19'}\n",
      "{'code': 'A001120', 'per': 0.5, 'date': '2017-02-19'}\n",
      "{'code': 'A001230', 'per': 0.47999999999999998, 'date': '2017-02-19'}\n",
      "{'code': 'A001430', 'per': 0.59999999999999998, 'date': '2017-02-19'}\n",
      "{'code': 'A001450', 'per': 0.62, 'date': '2017-02-19'}\n",
      "{'code': 'A001520', 'per': 0.17000000000000001, 'date': '2017-02-19'}\n",
      "{'code': 'A001680', 'per': 0.23999999999999999, 'date': '2017-02-19'}\n",
      "{'code': 'A001740', 'per': 0.44, 'date': '2017-02-19'}\n",
      "{'code': 'A001780', 'per': 0.11, 'date': '2017-02-19'}\n",
      "{'code': 'A001800', 'per': 0.58999999999999997, 'date': '2017-02-19'}\n",
      "{'code': 'A002240', 'per': 0.33000000000000002, 'date': '2017-02-19'}\n",
      "{'code': 'A002270', 'per': 0.52000000000000002, 'date': '2017-02-19'}\n",
      "{'code': 'A002350', 'per': 0.59999999999999998, 'date': '2017-02-19'}\n",
      "{'code': 'A002380', 'per': 0.0, 'date': '2017-02-19'}\n",
      "{'code': 'A002620', 'per': 0.17000000000000001, 'date': '2017-02-19'}\n",
      "{'code': 'A002790', 'per': 0.20000000000000001, 'date': '2017-02-19'}\n",
      "{'code': 'A002960', 'per': 0.53000000000000003, 'date': '2017-02-19'}\n",
      "{'code': 'A003000', 'per': 0.26000000000000001, 'date': '2017-02-19'}\n",
      "{'code': 'A003030', 'per': 0.26000000000000001, 'date': '2017-02-19'}\n",
      "{'code': 'A003240', 'per': 0.73999999999999999, 'date': '2017-02-19'}\n",
      "6 A003240 2017-02-19 0.74 3258 3\n",
      "insert result  {'code': 'A003240', 'per': 0.73999999999999999, 'date': '2017-02-19'} 3258\n",
      "{'code': 'A003300', 'per': 0.40000000000000002, 'date': '2017-02-19'}\n",
      "{'code': 'A003410', 'per': 0.59999999999999998, 'date': '2017-02-19'}\n",
      "{'code': 'A003490', 'per': 0.35999999999999999, 'date': '2017-02-19'}\n",
      "{'code': 'A003520', 'per': 0.29999999999999999, 'date': '2017-02-19'}\n",
      "{'code': 'A003550', 'per': 0.0, 'date': '2017-02-19'}\n",
      "{'code': 'A003570', 'per': 0.33000000000000002, 'date': '2017-02-19'}\n",
      "{'code': 'A003620', 'per': 0.28000000000000003, 'date': '2017-02-19'}\n",
      "{'code': 'A003850', 'per': 0.56000000000000005, 'date': '2017-02-19'}\n",
      "{'code': 'A003920', 'per': 0.0, 'date': '2017-02-19'}\n",
      "{'code': 'A004000', 'per': 0.52000000000000002, 'date': '2017-02-19'}\n",
      "{'code': 'A004020', 'per': 0.20000000000000001, 'date': '2017-02-19'}\n",
      "{'code': 'A004170', 'per': 0.41999999999999998, 'date': '2017-02-19'}\n",
      "{'code': 'A004370', 'per': 0.52000000000000002, 'date': '2017-02-19'}\n"
     ]
    },
    {
     "ename": "IndexError",
     "evalue": "index 79 is out of bounds for axis 0 with size 79",
     "output_type": "error",
     "traceback": [
      "\u001b[0;31m---------------------------------------------------------------------------\u001b[0m",
      "\u001b[0;31mIndexError\u001b[0m                                Traceback (most recent call last)",
      "\u001b[0;32m<ipython-input-19-3ba1b8051ec7>\u001b[0m in \u001b[0;36m<module>\u001b[0;34m()\u001b[0m\n\u001b[1;32m      5\u001b[0m \u001b[0mcodes\u001b[0m \u001b[0;34m=\u001b[0m \u001b[0mDBManager\u001b[0m\u001b[0;34m(\u001b[0m\u001b[0;34m)\u001b[0m\u001b[0;34m.\u001b[0m\u001b[0mget_codes\u001b[0m\u001b[0;34m(\u001b[0m\u001b[0;34m)\u001b[0m\u001b[0;34m\u001b[0m\u001b[0m\n\u001b[1;32m      6\u001b[0m \u001b[0;32mfor\u001b[0m \u001b[0mcode\u001b[0m \u001b[0;32min\u001b[0m \u001b[0mcodes\u001b[0m \u001b[0;34m:\u001b[0m\u001b[0;34m\u001b[0m\u001b[0m\n\u001b[0;32m----> 7\u001b[0;31m     \u001b[0manalyzed\u001b[0m \u001b[0;34m=\u001b[0m \u001b[0manalyze\u001b[0m\u001b[0;34m(\u001b[0m\u001b[0mcode\u001b[0m\u001b[0;34m[\u001b[0m\u001b[0;36m0\u001b[0m\u001b[0;34m]\u001b[0m\u001b[0;34m,\u001b[0m \u001b[0mlimit\u001b[0m\u001b[0;34m)\u001b[0m\u001b[0;34m\u001b[0m\u001b[0m\n\u001b[0m\u001b[1;32m      8\u001b[0m     \u001b[0;32mif\u001b[0m \u001b[0manalyzed\u001b[0m \u001b[0;32mis\u001b[0m \u001b[0;32mnot\u001b[0m \u001b[0;32mNone\u001b[0m \u001b[0;32mand\u001b[0m \u001b[0manalyzed\u001b[0m\u001b[0;34m[\u001b[0m\u001b[0;34m\"per\"\u001b[0m\u001b[0;34m]\u001b[0m \u001b[0;34m>\u001b[0m \u001b[0mLIMIT_FILTER\u001b[0m\u001b[0;34m:\u001b[0m\u001b[0;34m\u001b[0m\u001b[0m\n\u001b[1;32m      9\u001b[0m         \u001b[0mdb\u001b[0m \u001b[0;34m=\u001b[0m \u001b[0mDBManager\u001b[0m\u001b[0;34m(\u001b[0m\u001b[0;34m)\u001b[0m\u001b[0;34m\u001b[0m\u001b[0m\n",
      "\u001b[0;32m<ipython-input-18-b26746b99afe>\u001b[0m in \u001b[0;36manalyze\u001b[0;34m(code, limit)\u001b[0m\n\u001b[1;32m     32\u001b[0m \u001b[0;34m\u001b[0m\u001b[0m\n\u001b[1;32m     33\u001b[0m             \u001b[0mtest_indices\u001b[0m \u001b[0;34m=\u001b[0m \u001b[0mnp\u001b[0m\u001b[0;34m.\u001b[0m\u001b[0marange\u001b[0m\u001b[0;34m(\u001b[0m\u001b[0mlen\u001b[0m\u001b[0;34m(\u001b[0m\u001b[0mteX\u001b[0m\u001b[0;34m)\u001b[0m\u001b[0;34m)\u001b[0m\u001b[0;34m\u001b[0m\u001b[0m\n\u001b[0;32m---> 34\u001b[0;31m             \u001b[0morg\u001b[0m \u001b[0;34m=\u001b[0m \u001b[0mteY\u001b[0m\u001b[0;34m[\u001b[0m\u001b[0mtest_indices\u001b[0m\u001b[0;34m]\u001b[0m \u001b[0;31m## fixfix\u001b[0m\u001b[0;34m\u001b[0m\u001b[0m\n\u001b[0m\u001b[1;32m     35\u001b[0m             \u001b[0mres\u001b[0m \u001b[0;34m=\u001b[0m \u001b[0msess\u001b[0m\u001b[0;34m.\u001b[0m\u001b[0mrun\u001b[0m\u001b[0;34m(\u001b[0m\u001b[0mpredict_op\u001b[0m\u001b[0;34m,\u001b[0m \u001b[0mfeed_dict\u001b[0m\u001b[0;34m=\u001b[0m\u001b[0;34m{\u001b[0m\u001b[0mX\u001b[0m\u001b[0;34m:\u001b[0m \u001b[0mteX\u001b[0m\u001b[0;34m[\u001b[0m\u001b[0mtest_indices\u001b[0m\u001b[0;34m]\u001b[0m\u001b[0;34m,\u001b[0m \u001b[0mY\u001b[0m\u001b[0;34m:\u001b[0m \u001b[0mteY\u001b[0m\u001b[0;34m[\u001b[0m\u001b[0mtest_indices\u001b[0m\u001b[0;34m]\u001b[0m\u001b[0;34m}\u001b[0m\u001b[0;34m)\u001b[0m\u001b[0;34m\u001b[0m\u001b[0m\n\u001b[1;32m     36\u001b[0m \u001b[0;34m\u001b[0m\u001b[0m\n",
      "\u001b[0;31mIndexError\u001b[0m: index 79 is out of bounds for axis 0 with size 79"
     ]
    }
   ],
   "source": [
    "limit = '2017-02-19'\n",
    "EXPECT = 6 ##open, high, low, close, volume, hold_foreign, st_purchase_inst\n",
    "EVALUATE_SIZE = 3\n",
    "\n",
    "codes = DBManager().get_codes()\n",
    "for code in codes : \n",
    "    analyzed = analyze(code[0], limit)\n",
    "    if analyzed is not None and analyzed[\"per\"] > LIMIT_FILTER:\n",
    "        db = DBManager()\n",
    "        volume = db.get_volume(analyzed[\"code\"], limit)\n",
    "        db.insert_result(EXPECT, analyzed[\"code\"], limit, analyzed[\"per\"], EVALUATE_SIZE, volume)        \n",
    "        print('insert result ', analyzed, volume)\n",
    "\n",
    "print('done')"
   ]
  },
  {
   "cell_type": "code",
   "execution_count": null,
   "metadata": {
    "collapsed": true
   },
   "outputs": [],
   "source": []
  },
  {
   "cell_type": "code",
   "execution_count": null,
   "metadata": {
    "collapsed": true
   },
   "outputs": [],
   "source": []
  },
  {
   "cell_type": "code",
   "execution_count": null,
   "metadata": {
    "collapsed": true
   },
   "outputs": [],
   "source": []
  }
 ],
 "metadata": {
  "kernelspec": {
   "display_name": "Python 3",
   "language": "python",
   "name": "python3"
  }
 },
 "nbformat": 4,
 "nbformat_minor": 2
}
