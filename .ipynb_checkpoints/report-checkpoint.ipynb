{
 "cells": [
  {
   "cell_type": "code",
   "execution_count": 28,
   "metadata": {
    "collapsed": false,
    "deletable": true,
    "editable": true
   },
   "outputs": [],
   "source": [
    "# report future potential sotcks.\n",
    "\n",
    "# 오늘부터 ~ 가능한 일자까지 예측치 에서 기준에 부합하느것\n",
    "import pymysql\n",
    "import datetime\n",
    "from datetime import date, timedelta\n",
    "import configparser\n",
    "import telepot\n",
    "\n",
    "LIMIT = 0.70\n",
    "cf = configparser.ConfigParser()\n",
    "cf.read('config.cfg')\n",
    "                               \n",
    "DB_IP = cf.get('db', 'DB_IP')\n",
    "DB_USER = cf.get('db', 'DB_USER')\n",
    "DB_PWD = cf.get('db', 'DB_PWD')\n",
    "DB_SCH = cf.get('db', 'DB_SCH')\n",
    "VALID_USER = cf.get('telegram', 'VALID_USER')\n",
    "TOKEN = cf.get('telegram', 'TOKEN')\n",
    "\n",
    "\n",
    "\n",
    "conn = pymysql.connect(host=DB_IP, user=DB_USER, password=DB_PWD, db=DB_SCH, charset='utf8mb4')\n",
    "def get_potential_datas():\n",
    "    query = \"select type, code, analyzeAt, potential, volume from data.forecast where analyzeAt > curdate() and potential > %s order by analyzeAt, code asc\"\n",
    "    cursor = conn.cursor()\n",
    "    cursor.execute(query, (str(LIMIT)))\n",
    "    return cursor.fetchall()\n",
    "\n",
    "def send_msg(msg):\n",
    "    print(msg)\n",
    "    bot = telepot.Bot(TOKEN)    \n",
    "    bot.sendMessage(chat_id=VALID_USER, text= msg)\n",
    "    \n"
   ]
  },
  {
   "cell_type": "code",
   "execution_count": 29,
   "metadata": {
    "collapsed": false,
    "deletable": true,
    "editable": true
   },
   "outputs": [
    {
     "name": "stdout",
     "output_type": "stream",
     "text": [
      "2017-03-07\n",
      "2017-03-07\n",
      "2017-03-07\n",
      "2017-03-07\n",
      "2017-03-07\n",
      "2017-03-07\n",
      "2017-03-07\n"
     ]
    }
   ],
   "source": [
    "msg = ''\n",
    "for data in get_potential_datas():\n",
    "    msg += (data[2].strftime(\"%Y-%m-%d\") + ' [' +str( data[1]) + '] ['+str(data[3]) + '] [' + str(data[4]) + ']\\n')\n",
    "send_msg(msg)"
   ]
  },
  {
   "cell_type": "code",
   "execution_count": null,
   "metadata": {
    "collapsed": true,
    "deletable": true,
    "editable": true
   },
   "outputs": [],
   "source": []
  }
 ],
 "metadata": {
  "kernelspec": {
   "display_name": "Python 3",
   "language": "python",
   "name": "python3"
  },
  "language_info": {
   "codemirror_mode": {
    "name": "ipython",
    "version": 3
   },
   "file_extension": ".py",
   "mimetype": "text/x-python",
   "name": "python",
   "nbconvert_exporter": "python",
   "pygments_lexer": "ipython3",
   "version": "3.5.3"
  }
 },
 "nbformat": 4,
 "nbformat_minor": 2
}
