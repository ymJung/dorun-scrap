{
 "cells": [
  {
   "cell_type": "code",
   "execution_count": 37,
   "metadata": {
    "collapsed": false,
    "deletable": true,
    "editable": true
   },
   "outputs": [],
   "source": [
    "# report future potential sotcks.\n",
    "import pymysql\n",
    "import datetime\n",
    "from datetime import date, timedelta\n",
    "import configparser\n",
    "\n",
    "import telepot\n",
    "\n",
    "cf = configparser.ConfigParser()\n",
    "cf.read('config.cfg')\n",
    "                               \n",
    "DB_IP = cf.get('db', 'DB_IP')\n",
    "DB_USER = cf.get('db', 'DB_USER')\n",
    "DB_PWD = cf.get('db', 'DB_PWD')\n",
    "DB_SCH = cf.get('db', 'DB_SCH')\n",
    "VALID_USER = cf.get('telegram', 'VALID_USER')\n",
    "TOKEN = cf.get('telegram', 'TOKEN')\n",
    "\n",
    "\n",
    "class DBManager :\n",
    "    def __init__(self):\n",
    "        self.conn = pymysql.connect(host=DB_IP, user=DB_USER, password=DB_PWD, db=DB_SCH, charset='utf8mb4', cursorclass=pymysql.cursors.DictCursor)\n",
    "    def __del__(self):\n",
    "        self.conn.close()\n",
    "    def select_forecast(self):\n",
    "        cursor = self.conn.cursor()\n",
    "        cursor.execute(\"SELECT id, type, code, evaluate, analyzeAt, potential FROM data.forecast WHERE correct= 0\")\n",
    "        return cursor.fetchall()    \n",
    "    def select_stock_data(self, code, date):\n",
    "        cursor = self.conn.cursor()\n",
    "        cursor.execute(\"SELECT id, code, date, open, close, st_purchase_inst FROM data.daily_stock WHERE code = %s AND date = %s\", (code, date))\n",
    "        return cursor.fetchone()    \n",
    "    def update_forecast_correct(self, forecast_id, correct):\n",
    "        cursor = self.conn.cursor()\n",
    "        cursor.execute('UPDATE `data`.`forecast` SET `correct`=%s WHERE `id`= %s', (correct, forecast_id))\n",
    "        self.conn.commit()\n"
   ]
  },
  {
   "cell_type": "code",
   "execution_count": 40,
   "metadata": {
    "collapsed": false,
    "deletable": true,
    "editable": true,
    "scrolled": false
   },
   "outputs": [],
   "source": [
    "TYPE_MAP = {3:'close', 6:'st_purchase_inst'}\n",
    "\n",
    "dbm = DBManager()\n",
    "datas = dbm.select_forecast()\n",
    "for data in datas:\n",
    "    select = TYPE_MAP[data.get('type')]\n",
    "    analyze_at = data.get('analyzeAt')\n",
    "    code = data.get('code')\n",
    "    target_at = analyze_at + timedelta(days=data.get('evaluate'))\n",
    "    forecast_id = data.get('id')\n",
    "    \n",
    "    start_data = dbm.select_stock_data(code, analyze_at)    \n",
    "    end_data = dbm.select_stock_data(code, target_at)\n",
    "    if end_data is None or start_data is None :\n",
    "        continue\n",
    "    changed = end_data.get(select) - start_data.get(select)\n",
    "    percent = round((changed / start_data.get(select)) * 100, 2)\n",
    "    #print(TYPE_MAP[data.get('type')], start_data.get(select), changed, percent)\n",
    "    if percent > 3:\n",
    "        dbm.update_forecast_correct(forecast_id, 2)\n",
    "    elif percent < 0:\n",
    "        dbm.update_forecast_correct(forecast_id, -1)\n",
    "    else :\n",
    "        dbm.update_forecast_correct(forecast_id, 1)\n",
    "    \n",
    "print('done')"
   ]
  },
  {
   "cell_type": "code",
   "execution_count": null,
   "metadata": {
    "collapsed": true,
    "deletable": true,
    "editable": true
   },
   "outputs": [],
   "source": []
  },
  {
   "cell_type": "code",
   "execution_count": null,
   "metadata": {
    "collapsed": true
   },
   "outputs": [],
   "source": []
  }
 ],
 "metadata": {
  "kernelspec": {
   "display_name": "Python 3",
   "language": "python",
   "name": "python3"
  },
  "language_info": {
   "codemirror_mode": {
    "name": "ipython",
    "version": 3
   },
   "file_extension": ".py",
   "mimetype": "text/x-python",
   "name": "python",
   "nbconvert_exporter": "python",
   "pygments_lexer": "ipython3",
   "version": "3.5.3"
  }
 },
 "nbformat": 4,
 "nbformat_minor": 2
}
