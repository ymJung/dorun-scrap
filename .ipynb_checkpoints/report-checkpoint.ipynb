{
 "cells": [
  {
   "cell_type": "code",
   "execution_count": 17,
   "metadata": {
    "collapsed": false,
    "deletable": true,
    "editable": true
   },
   "outputs": [],
   "source": [
    "# report future potential sotcks.\n",
    "\n",
    "# 오늘부터 ~ 가능한 일자까지 예측치 에서 기준에 부합하느것\n",
    "import pymysql\n",
    "import datetime\n",
    "from datetime import date, timedelta\n",
    "import configparser\n",
    "\n",
    "import telepot\n",
    "\n",
    "\n",
    "LIMIT = 0.70\n",
    "cf = configparser.ConfigParser()\n",
    "cf.read('config.cfg')\n",
    "                               \n",
    "DB_IP = cf.get('db', 'DB_IP')\n",
    "DB_USER = cf.get('db', 'DB_USER')\n",
    "DB_PWD = cf.get('db', 'DB_PWD')\n",
    "DB_SCH = cf.get('db', 'DB_SCH')\n",
    "VALID_USER = cf.get('telegram', 'VALID_USER')\n",
    "TOKEN = cf.get('telegram', 'TOKEN')\n",
    "\n",
    "\n",
    "class DBManager :\n",
    "    def __init__(self):\n",
    "        self.conn = pymysql.connect(host=DB_IP, user=DB_USER, password=DB_PWD, db=DB_SCH, charset='utf8mb4')\n",
    "    def __del__(self):\n",
    "        self.conn.close()    \n",
    "    def get_potential_datas(self):\n",
    "        cursor = self.conn.cursor()           \n",
    "        cursor.execute(\"select max(analyzeAt), max(evaluate) from data.forecast;\")\n",
    "        result = cursor.fetchone()\n",
    "        target_at = result[0] - timedelta(days=result[1])\n",
    "        query = \"select type, code, analyzeAt, potential, volume from data.forecast where analyzeAt > %s and potential > %s order by analyzeAt, code asc\"    \n",
    "        cursor.execute(query, (target_at, str(LIMIT)))\n",
    "        return cursor.fetchall()\n",
    "    def get_target_forecast(self, code):\n",
    "#         code = self.get_code(param)\n",
    "#         if code is None:\n",
    "#             return None\n",
    "        cursor = self.conn.cursor()    \n",
    "        cursor.execute(\"select max(evaluate) from data.forecast\")\n",
    "        max_evaluate = cursor.fetchone()[0]\n",
    "        target_at = date.today() - timedelta(days = max_evaluate)        \n",
    "        cursor.execute(\"SELECT ds.name, f.type, f.code, f.analyzeAt, f.potential, f.volume FROM data.forecast f, data.daily_stock ds WHERE ds.code = f.code AND f.analyzeAt > %s AND f.code = %s GROUP BY f.id ORDER BY f.analyzeAt, f.code ASC\",\n",
    "                       (target_at, code))\n",
    "        results = cursor.fetchall()\n",
    "        msg = ''\n",
    "        for result in results:\n",
    "            msg += result + '\\n'\n",
    "        return msg\n",
    "    def get_code(self, param):\n",
    "        cursor = self.conn.cursor()\n",
    "        cursor.execute(\"SELECT distinct(code) FROM data.daily_stock WHERE name = %s\", (param));\n",
    "        result = cursor.fetchone()\n",
    "        if result is not None:\n",
    "            return result[0]\n",
    "        cursor.execute(\"SELECT distinct(code) FROM data.daily_stock WHERE code = %s\", (param));\n",
    "        result = cursor.fetchone()\n",
    "        if result is not None:\n",
    "            return result[0]\n",
    "        return None\n",
    "\n"
   ]
  },
  {
   "cell_type": "code",
   "execution_count": null,
   "metadata": {
    "collapsed": true
   },
   "outputs": [],
   "source": [
    "def send_msg(msg):\n",
    "    if len(msg) is 0:\n",
    "        return\n",
    "    print(msg)\n",
    "    bot = telepot.Bot(TOKEN)    \n",
    "    bot.sendMessage(chat_id=VALID_USER, text= msg)\n",
    "    \n",
    "def report():\n",
    "    msg = ''\n",
    "    for data in get_potential_datas():\n",
    "        date = data[2]\n",
    "        code = data[1]\n",
    "        potential = data[3]\n",
    "        volume = data[4]\n",
    "        msg += date.strftime(\"%Y-%m-%d\") + ' [' + code + '] ['+ str(potential) + '] [' + str(volume) + ']\\n'\n",
    "    send_msg(msg)"
   ]
  },
  {
   "cell_type": "code",
   "execution_count": null,
   "metadata": {
    "collapsed": false,
    "deletable": true,
    "editable": true,
    "scrolled": false
   },
   "outputs": [],
   "source": [
    "import sys\n",
    "import random\n",
    "import traceback\n",
    "import telepot\n",
    "from telepot.delegate import per_chat_id, create_open, pave_event_space\n",
    "\n",
    "\n",
    "class WorkBot(telepot.helper.ChatHandler):\n",
    "    def __init__(self, *args, **kwargs):\n",
    "        super(WorkBot, self).__init__(*args, **kwargs)\n",
    "        \n",
    "    \n",
    "    def open(self, initial_msg, seed):\n",
    "        self.sender.sendMessage('bot start')\n",
    "        return True \n",
    "\n",
    "    def on_chat_message(self, msg):\n",
    "        content_type, chat_type, chat_id = telepot.glance(msg)\n",
    "        #{'date': 1489804035, 'text': 'dd', 'message_id': , 'chat': {'type': 'private', 'first_name': 'YoungMin', \n",
    "        #'id': , 'last_name': 'Jung'}, 'from': {'first_name': 'YoungMin', 'id': 60403284, 'last_name': 'Jung'}}\n",
    "        input_text = msg['text']\n",
    "        print(input_text)\n",
    "        if input_text == 'exit':\n",
    "            self.sender.sendMessage('Bye!')\n",
    "            self.close()\n",
    "            return        \n",
    "        dbm = DBManager()\n",
    "        code = dbm.get_code(input_text)        \n",
    "        if code is None:\n",
    "            self.sender.sendMessage('not found.')\n",
    "            return\n",
    "        poten_data = dbm.get_target_forecast(code)\n",
    "        self.sender.sendMessage(poten_data)\n",
    "\n",
    "    def on__idle(self, event):\n",
    "        self.sender.sendMessage('bot end.')\n",
    "        self.close()\n"
   ]
  },
  {
   "cell_type": "code",
   "execution_count": null,
   "metadata": {
    "collapsed": true,
    "deletable": true,
    "editable": true
   },
   "outputs": [],
   "source": [
    "bot = telepot.DelegatorBot(TOKEN, [\n",
    "    pave_event_space()(\n",
    "        per_chat_id(), create_open, WorkBot, timeout=10),\n",
    "])\n",
    "bot.message_loop(run_forever='Listening ...')"
   ]
  },
  {
   "cell_type": "code",
   "execution_count": null,
   "metadata": {
    "collapsed": true,
    "deletable": true,
    "editable": true
   },
   "outputs": [],
   "source": []
  }
 ],
 "metadata": {
  "kernelspec": {
   "display_name": "Python 3",
   "language": "python",
   "name": "python3"
  },
  "language_info": {
   "codemirror_mode": {
    "name": "ipython",
    "version": 3
   },
   "file_extension": ".py",
   "mimetype": "text/x-python",
   "name": "python",
   "nbconvert_exporter": "python",
   "pygments_lexer": "ipython3",
   "version": "3.5.3"
  }
 },
 "nbformat": 4,
 "nbformat_minor": 2
}
