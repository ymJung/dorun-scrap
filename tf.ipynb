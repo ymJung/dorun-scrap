{
 "cells": [
  {
   "cell_type": "code",
   "execution_count": null,
   "metadata": {
    "collapsed": false,
    "scrolled": true
   },
   "outputs": [],
   "source": [
    "import sqlite3 as sql\n",
    "import tensorflow as tf\n",
    "import numpy as np\n",
    "import pymysql\n",
    "\n",
    "# configuration\n",
    "#                               O * W + b -> 3 labels for each time series, O[? 7], W[7 3], B[3]\n",
    "#                               ^ (O: output 7 vec from 7 vec input)\n",
    "#                               |\n",
    "#              +-+  +-+        +--+\n",
    "#              |1|->|2|-> ...  |60| time_step_size = 60\n",
    "#              +-+  +-+        +--+\n",
    "#               ^    ^    ...   ^\n",
    "#               |    |          |\n",
    "# time series1:[7]  [7]   ...  [7]\n",
    "# time series2:[7]  [7]   ...  [7]\n",
    "# time series3:[7]  [7]   ...  [7]\n",
    "# ...\n",
    "# time series(250) or time series(750) (batch_size 250 or test_size 1000 - 250)\n",
    "#      each input size = input_vec_size=lstm_size=7\n",
    "\n",
    "# configuration variables\n",
    "input_vec_size = lstm_size = 7\n",
    "time_step_size = 60\n",
    "label_size = 3\n",
    "evaluate_size = 3\n",
    "lstm_depth = 4\n",
    "\n",
    "total_size = 60000\n",
    "batch_size = 15000\n",
    "test_size = total_size - batch_size\n",
    "conn = pymysql.connect(host='192.168.1.210',\n",
    "                                          user='root',\n",
    "                                          password='1234',\n",
    "                                          db='data',\n",
    "                                          charset='utf8mb4')\n",
    "\n",
    "\n",
    "def init_weights(shape):\n",
    "    return tf.Variable(tf.random_normal(shape, stddev=0.01))"
   ]
  },
  {
   "cell_type": "code",
   "execution_count": null,
   "metadata": {
    "collapsed": true
   },
   "outputs": [],
   "source": [
    "def model(X, W, B, lstm_size):\n",
    "    # X, input shape: (batch_size, time_step_size, input_vec_size)\n",
    "    XT = tf.transpose(X, [1, 0, 2])  # permute time_step_size and batch_size\n",
    "    # XT shape: (time_step_size, batch_size, input_vec_size)\n",
    "    XR = tf.reshape(XT, [-1, lstm_size]) # each row has input for each lstm cell (lstm_size=input_vec_size)\n",
    "    # XR shape: (time_step_size * batch_size, input_vec_size)\n",
    "    X_split = tf.split(0, time_step_size, XR) # split them to time_step_size (60 arrays)\n",
    "    # Each array shape: (batch_size, input_vec_size)\n",
    "\n",
    "    # Make lstm with lstm_size (each input vector size)\n",
    "    with tf.variable_scope(\"temp\", reuse=True):\n",
    "        cell = tf.nn.rnn_cell.GRUCell(lstm_size)\n",
    "        cell = tf.nn.rnn_cell.DropoutWrapper(cell = cell, output_keep_prob = 0.5)\n",
    "        cell = tf.nn.rnn_cell.MultiRNNCell([cell] * lstm_depth, state_is_tuple = True)\n",
    "\n",
    "    # Get lstm cell output, time_step_size (60) arrays with lstm_size output: (batch_size, lstm_size)\n",
    "    outputs, _states = tf.nn.rnn(cell, X_split, dtype=tf.float32)\n",
    "\n",
    "    # Linear activation\n",
    "    # Get the last output\n",
    "    return tf.matmul(outputs[-1], W) + B, cell.state_size # State size to initialize the stat\n"
   ]
  },
  {
   "cell_type": "code",
   "execution_count": null,
   "metadata": {
    "collapsed": true
   },
   "outputs": [],
   "source": [
    "def get_codedates():\n",
    "    cursor = conn.cursor()\n",
    "    cursor.execute(\"SELECT DISTINCT code FROM data.daily_stock\")\n",
    "    codes = cursor.fetchall()\n",
    "\n",
    "    cursor = conn.cursor()\n",
    "    cursor.execute(\"SELECT DISTINCT date FROM data.daily_stock ORDER BY date\")\n",
    "    dates = cursor.fetchall()[:-(time_step_size + evaluate_size)]\n",
    "\n",
    "    cnt = total_size\n",
    "    code_dates = list()\n",
    "    for date in dates:\n",
    "        for code in codes:\n",
    "            code_dates.append((code[0], date[0]))\n",
    "            if --cnt <= 0:\n",
    "                break\n",
    "        if --cnt <= 0:\n",
    "            break\n",
    "    return code_dates"
   ]
  },
  {
   "cell_type": "code",
   "execution_count": null,
   "metadata": {
    "collapsed": true
   },
   "outputs": [],
   "source": [
    "def read_series_datas(conn, code_dates):\n",
    "    X = list()\n",
    "    Y = list()\n",
    "\n",
    "    for code_date in code_dates:\n",
    "        cursor = conn.cursor()\n",
    "        cursor.execute(\"SELECT open, high, low, close, volume, hold_foreign, st_purchase_inst FROM data.daily_stock WHERE code = %s AND date >= %s ORDER BY date LIMIT %s\",\n",
    "                       (code_date[0], code_date[1], time_step_size + evaluate_size))\n",
    "        items = cursor.fetchall()        \n",
    "        X.append(np.array(items[:time_step_size]))\n",
    "\n",
    "        price = items[-(evaluate_size + 1)][3]\n",
    "        max = items[-evaluate_size][1]\n",
    "        min = items[-evaluate_size][2]\n",
    "\n",
    "        for item in items[-evaluate_size + 1:]:\n",
    "            if max < item[1]:\n",
    "                max = item[1]\n",
    "            if item[2] < min:\n",
    "                min = item[2]\n",
    "\n",
    "        if (min - price) / price < -0.02:\n",
    "            Y.append((0., 0., 1.))\n",
    "        elif (max - price) / price > 0.04:\n",
    "            Y.append((1., 0., 0.))\n",
    "        else:\n",
    "            Y.append((0., 1., 0.))\n",
    "\n",
    "    arrX = np.array(X)\n",
    "    norX = (arrX - np.mean(arrX, axis = 0)) / np.std(arrX, axis = 0)\n",
    "    return norX, np.array(Y)"
   ]
  },
  {
   "cell_type": "code",
   "execution_count": null,
   "metadata": {
    "collapsed": true
   },
   "outputs": [],
   "source": [
    "def read_datas():    \n",
    "    code_dates = get_codedates()\n",
    "    np.random.seed()\n",
    "    np.random.shuffle(code_dates)\n",
    "\n",
    "    trX = list()\n",
    "    trY = list()\n",
    "    trX, trY = read_series_datas(conn, code_dates[:batch_size])\n",
    "    teX, teY = read_series_datas(conn, code_dates[-test_size:])\n",
    "\n",
    "    return trX, trY, teX, teY"
   ]
  },
  {
   "cell_type": "code",
   "execution_count": null,
   "metadata": {
    "collapsed": false
   },
   "outputs": [],
   "source": [
    "trX, trY, teX, teY = read_datas()\n",
    "\n",
    "X = tf.placeholder(tf.float32, [None, time_step_size, input_vec_size])\n",
    "Y = tf.placeholder(tf.float32, [None, label_size])\n",
    "\n",
    "# get lstm_size and output 3 labels\n",
    "W = init_weights([lstm_size, label_size])\n",
    "B = init_weights([label_size])\n",
    "\n",
    "py_x, state_size = model(X, W, B, lstm_size)\n",
    "\n",
    "loss = tf.nn.softmax_cross_entropy_with_logits(py_x, Y)\n",
    "cost = tf.reduce_mean(loss)\n",
    "train_op = tf.train.RMSPropOptimizer(0.001, 0.9).minimize(cost)\n",
    "predict_op = tf.argmax(py_x, 1)\n",
    "\n"
   ]
  },
  {
   "cell_type": "code",
   "execution_count": null,
   "metadata": {
    "collapsed": false
   },
   "outputs": [],
   "source": [
    "# Launch the graph in a session\n",
    "with tf.Session() as sess:\n",
    "    # you need to initialize all variables\n",
    "    tf.global_variables_initializer().run()\n",
    "\n",
    "    for i in range(100):\n",
    "        for start, end in zip(range(0, len(trX), batch_size), range(batch_size, len(trX)+1, batch_size)):\n",
    "            sess.run(train_op, feed_dict={X: trX[start:end], Y: trY[start:end]})\n",
    "\n",
    "        test_indices = np.arange(len(teX))  # Get A Test Batch\n",
    "        #np.random.shuffle(test_indices)\n",
    "        test_indices = test_indices[0:test_size]\n",
    "\n",
    "        org = teY[test_indices]\n",
    "        res = sess.run(predict_op, feed_dict={X: teX[test_indices], Y: teY[test_indices]})\n",
    "\n",
    "        print(i, np.mean(np.argmax(org, axis=1) == res))"
   ]
  },
  {
   "cell_type": "code",
   "execution_count": null,
   "metadata": {
    "collapsed": true
   },
   "outputs": [],
   "source": []
  },
  {
   "cell_type": "code",
   "execution_count": null,
   "metadata": {
    "collapsed": true
   },
   "outputs": [],
   "source": []
  }
 ],
 "metadata": {
  "kernelspec": {
   "display_name": "Python 3",
   "language": "python",
   "name": "python3"
  },
  "language_info": {
   "codemirror_mode": {
    "name": "ipython",
    "version": 3
   },
   "file_extension": ".py",
   "mimetype": "text/x-python",
   "name": "python",
   "nbconvert_exporter": "python",
   "pygments_lexer": "ipython3",
   "version": "3.4.5"
  }
 },
 "nbformat": 4,
 "nbformat_minor": 2
}
