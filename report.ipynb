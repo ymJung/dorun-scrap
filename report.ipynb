{
 "cells": [
  {
   "cell_type": "code",
   "execution_count": 1,
   "metadata": {
    "collapsed": false,
    "deletable": true,
    "editable": true
   },
   "outputs": [],
   "source": [
    "# report future potential sotcks.\n",
    "\n",
    "# 오늘부터 ~ 가능한 일자까지 예측치 에서 기준에 부합하느것\n",
    "import pymysql\n",
    "import datetime\n",
    "from datetime import date, timedelta\n",
    "import configparser\n",
    "\n",
    "import telepot\n",
    "\n",
    "\n",
    "LIMIT = 0.70\n",
    "cf = configparser.ConfigParser()\n",
    "cf.read('config.cfg')\n",
    "                               \n",
    "DB_IP = cf.get('db', 'DB_IP')\n",
    "DB_USER = cf.get('db', 'DB_USER')\n",
    "DB_PWD = cf.get('db', 'DB_PWD')\n",
    "DB_SCH = cf.get('db', 'DB_SCH')\n",
    "VALID_USER = cf.get('telegram', 'VALID_USER')\n",
    "TOKEN = cf.get('telegram', 'TOKEN')\n",
    "\n",
    "\n",
    "\n",
    "conn = pymysql.connect(host=DB_IP, user=DB_USER, password=DB_PWD, db=DB_SCH, charset='utf8mb4')\n",
    "def get_potential_datas():\n",
    "    cursor = conn.cursor()           \n",
    "    cursor.execute(\"select max(analyzeAt), max(evaluate) from data.forecast;\")\n",
    "    result = cursor.fetchone()\n",
    "    target_at = result[0] - timedelta(days=result[1])\n",
    "    query = \"select type, code, analyzeAt, potential, volume from data.forecast where analyzeAt > %s and potential > %s order by analyzeAt, code asc\"    \n",
    "    cursor.execute(query, (target_at, str(LIMIT)))\n",
    "    return cursor.fetchall()\n",
    "\n",
    "def send_msg(msg):\n",
    "    if len(msg) is 0:\n",
    "        return\n",
    "    print(msg)\n",
    "    bot = telepot.Bot(TOKEN)    \n",
    "    bot.sendMessage(chat_id=VALID_USER, text= msg)\n",
    "    \n",
    "def report():\n",
    "    msg = ''\n",
    "    for data in get_potential_datas():\n",
    "        date = data[2]\n",
    "        code = data[1]\n",
    "        potential = data[3]\n",
    "        volume = data[4]\n",
    "        msg += date.strftime(\"%Y-%m-%d\") + ' [' + code + '] ['+ str(potential) + '] [' + str(volume) + ']\\n'\n",
    "    send_msg(msg)"
   ]
  },
  {
   "cell_type": "code",
   "execution_count": 2,
   "metadata": {
    "collapsed": false,
    "deletable": true,
    "editable": true,
    "scrolled": false
   },
   "outputs": [
    {
     "name": "stdout",
     "output_type": "stream",
     "text": [
      "Listening ...\n",
      "{'date': 1489804035, 'text': 'dd', 'message_id': 2396, 'chat': {'type': 'private', 'first_name': 'YoungMin', 'id': 60403284, 'last_name': 'Jung'}, 'from': {'first_name': 'YoungMin', 'id': 60403284, 'last_name': 'Jung'}}\n"
     ]
    },
    {
     "ename": "KeyboardInterrupt",
     "evalue": "",
     "output_type": "error",
     "traceback": [
      "\u001b[1;31m---------------------------------------------------------------------------\u001b[0m",
      "\u001b[1;31mKeyboardInterrupt\u001b[0m                         Traceback (most recent call last)",
      "\u001b[1;32m<ipython-input-2-d9386700139a>\u001b[0m in \u001b[0;36m<module>\u001b[1;34m()\u001b[0m\n\u001b[0;32m     35\u001b[0m         per_chat_id(), create_open, Player, timeout=10),\n\u001b[0;32m     36\u001b[0m ])\n\u001b[1;32m---> 37\u001b[1;33m \u001b[0mbot\u001b[0m\u001b[1;33m.\u001b[0m\u001b[0mmessage_loop\u001b[0m\u001b[1;33m(\u001b[0m\u001b[0mrun_forever\u001b[0m\u001b[1;33m=\u001b[0m\u001b[1;34m'Listening ...'\u001b[0m\u001b[1;33m)\u001b[0m\u001b[1;33m\u001b[0m\u001b[0m\n\u001b[0m",
      "\u001b[1;32mc:\\anaconda3\\envs\\tensorflow\\lib\\site-packages\\telepot\\__init__.py\u001b[0m in \u001b[0;36mmessage_loop\u001b[1;34m(self, callback, relax, timeout, allowed_updates, source, ordered, maxhold, run_forever)\u001b[0m\n\u001b[0;32m    960\u001b[0m                 \u001b[0mprint\u001b[0m\u001b[1;33m(\u001b[0m\u001b[0mrun_forever\u001b[0m\u001b[1;33m)\u001b[0m\u001b[1;33m\u001b[0m\u001b[0m\n\u001b[0;32m    961\u001b[0m             \u001b[1;32mwhile\u001b[0m \u001b[1;36m1\u001b[0m\u001b[1;33m:\u001b[0m\u001b[1;33m\u001b[0m\u001b[0m\n\u001b[1;32m--> 962\u001b[1;33m                 \u001b[0mtime\u001b[0m\u001b[1;33m.\u001b[0m\u001b[0msleep\u001b[0m\u001b[1;33m(\u001b[0m\u001b[1;36m10\u001b[0m\u001b[1;33m)\u001b[0m\u001b[1;33m\u001b[0m\u001b[0m\n\u001b[0m\u001b[0;32m    963\u001b[0m \u001b[1;33m\u001b[0m\u001b[0m\n\u001b[0;32m    964\u001b[0m \u001b[1;33m\u001b[0m\u001b[0m\n",
      "\u001b[1;31mKeyboardInterrupt\u001b[0m: "
     ]
    }
   ],
   "source": [
    "import sys\n",
    "import random\n",
    "import traceback\n",
    "import telepot\n",
    "from telepot.delegate import per_chat_id, create_open, pave_event_space\n",
    "\n",
    "\n",
    "class WorkBot(telepot.helper.ChatHandler):\n",
    "    def __init__(self, *args, **kwargs):\n",
    "        super(WorkBot, self).__init__(*args, **kwargs)\n",
    "        \n",
    "    \n",
    "    def open(self, initial_msg, seed):\n",
    "        self.sender.sendMessage('bot start')\n",
    "        return True \n",
    "\n",
    "    def on_chat_message(self, msg):\n",
    "        content_type, chat_type, chat_id = telepot.glance(msg)\n",
    "        #{'date': 1489804035, 'text': 'dd', 'message_id': 2396, 'chat': {'type': 'private', 'first_name': 'YoungMin', \n",
    "        #'id': 60403284, 'last_name': 'Jung'}, 'from': {'first_name': 'YoungMin', 'id': 60403284, 'last_name': 'Jung'}}\n",
    "        \n",
    "        if msg['text'] == 'exit':\n",
    "            self.sender.sendMessage('Bye!')\n",
    "            self.close()\n",
    "            return\n",
    "        input_text = msg['text']\n",
    "        # TODO -- name or code << send future potential.\n",
    "        stock = get_stock_by_data(input_text)\n",
    "        if stock is None:\n",
    "            self.sender.sendMessage('not found.')\n",
    "        poten_data = get_potential(stock)\n",
    "        self.sender.sendMessage(poten_data)\n",
    "    def get_stock_by_data(self, input_data):\n",
    "        #TODO\n",
    "    def get_potential(self, stock):\n",
    "        #TODO\n",
    "        \n",
    "    def on__idle(self, event):\n",
    "        self.sender.sendMessage('bot end.')\n",
    "        self.close()\n",
    "\n",
    "\n",
    "\n",
    "bot = telepot.DelegatorBot(TOKEN, [\n",
    "    pave_event_space()(\n",
    "        per_chat_id(), create_open, WorkBot, timeout=10),\n",
    "])\n",
    "bot.message_loop(run_forever='Listening ...')"
   ]
  },
  {
   "cell_type": "code",
   "execution_count": null,
   "metadata": {
    "collapsed": true
   },
   "outputs": [],
   "source": []
  },
  {
   "cell_type": "code",
   "execution_count": null,
   "metadata": {
    "collapsed": true,
    "deletable": true,
    "editable": true
   },
   "outputs": [],
   "source": []
  }
 ],
 "metadata": {
  "kernelspec": {
   "display_name": "Python 3",
   "language": "python",
   "name": "python3"
  },
  "language_info": {
   "codemirror_mode": {
    "name": "ipython",
    "version": 3
   },
   "file_extension": ".py",
   "mimetype": "text/x-python",
   "name": "python",
   "nbconvert_exporter": "python",
   "pygments_lexer": "ipython3",
   "version": "3.5.3"
  }
 },
 "nbformat": 4,
 "nbformat_minor": 2
}
