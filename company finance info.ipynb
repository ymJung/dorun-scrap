{
 "cells": [
  {
   "cell_type": "code",
   "execution_count": 1,
   "metadata": {
    "collapsed": false,
    "deletable": true,
    "editable": true
   },
   "outputs": [],
   "source": [
    "import re\n",
    "from datetime import datetime\n",
    "import pandas as pd\n",
    "import requests\n",
    "from bs4 import BeautifulSoup\n",
    "\n",
    "\n",
    "HEADERS = ['매출액', '영업이익', '세전계속사업이익', '당기순이익', '당기순이익(지배)', '당기순이익(비지배)', '자산총계',\n",
    "  '부채총계', '자본총계', '자본총계(지배)', '자본총계(비지배)', '자본금', '영업활동현금흐름', '투자활동현금흐름', '재무활동현금흐름', \n",
    "  'CAPEX', 'FCF', '이자발생부채', '영업이익률', '순이익률', 'ROE(%)', 'ROA(%)', '부채비율', '자본유보율', 'EPS(원)', 'PER(배)', \n",
    "  'BPS(원)', 'PBR(배)', '현금DPS(원)', '현금배당수익률', '현금배당성향(%)', '발행주식수(보통주)']\n",
    "DB_COLUMNS = ['retailPrice', 'businessProfit', 'beforeTaxBuisinessProfit', 'netProfitDuringTheTerm', 'controlNetProfitDuringTheTerm', 'uncontrolNetProfitDuringTheTerm', 'totalAsset', 'totalDebt', 'totalCapital', 'totalControlCapital', 'totalUncontrolCapital', 'capital', 'businessCashFlow', 'investmentCashFlow', 'financeCashFlow', 'capitalExpenditures', 'freeCashFlow', 'interestBearingDebt', 'buisinessProfitRate', 'clearProfitRate', 'returnOnEquityRate', 'returnOnAssetsRate', 'debtRate', 'deferCapital', 'earningsPerShareWon', 'priceEarningsRatio', 'bookvaluePerShareWon', 'priceBookvalueRatio', 'cashDividendPerShare', 'cashDividendYield', 'cashPropensityDividendRate', 'shareOutstandingQty']\n",
    "'''\n",
    "get_date_str(s) - 문자열 s 에서 \"YYYY/MM\" 문자열 추출\n",
    "'''\n",
    "def get_date_str(s):\n",
    "    date_str = ''\n",
    "    r = re.search(\"\\d{4}/\\d{2}\", s)\n",
    "    if r:\n",
    "        date_str = r.group()\n",
    "        date_str = date_str.replace('/', '-')\n",
    "\n",
    "    return date_str\n",
    "\n",
    "'''\n",
    "* code: 종목코드\n",
    "* fin_type = '0': 재무제표 종류 (0: 주재무제표, 1: GAAP개별, 2: GAAP연결, 3: IFRS별도, 4:IFRS연결)\n",
    "* freq_type = 'Y': 기간 (Y:년, Q:분기)\n",
    "headers -- \n",
    "[['매출액', '영업이익', '세전계속사업이익', '당기순이익', '당기순이익(지배)', '당기순이익(비지배)', '자산총계',\n",
    "  '부채총계', '자본총계', '자본총계(지배)', '자본총계(비지배)', '자본금', '영업활동현금흐름', '투자활동현금흐름', '재무활동현금흐름', \n",
    "  'CAPEX', 'FCF', '이자발생부채', '영업이익률', '순이익률', 'ROE(%)', 'ROA(%)', '부채비율', '자본유보율', 'EPS(원)', 'PER(배)', \n",
    "  'BPS(원)', 'PBR(배)', '현금DPS(원)', '현금배당수익률', '현금배당성향(%)', '발행주식수(보통주)']]\n",
    "\n",
    "'''\n",
    "def get_finstate_naver(code, fin_type='0', freq_type='Y'):\n",
    "    url_tmpl = 'http://companyinfo.stock.naver.com/v1/company/ajax/cF1001.aspx?' \\\n",
    "                   'cmp_cd=%s&fin_typ=%s&freq_typ=%s'\n",
    "\n",
    "    url = url_tmpl % (code, fin_type, freq_type)\n",
    "    #print(url)\n",
    "\n",
    "    dfs = pd.read_html(url, encoding=\"utf-8\", flavor='html5lib')\n",
    "    df = dfs[0]\n",
    "    if df.ix[0,0].find('해당 데이터가 존재하지 않습니다') >= 0:\n",
    "        return None\n",
    "\n",
    "    df.rename(columns={'주요재무정보':'date'}, inplace=True)\n",
    "    df.set_index('date', inplace=True)\n",
    "\n",
    "    cols = list(df.columns)\n",
    "    if '연간' in cols: cols.remove('연간')\n",
    "    if '분기' in cols: cols.remove('분기')\n",
    "    cols = [get_date_str(x) for x in cols]\n",
    "    df = df.ix[:, :-1]\n",
    "    df.columns = cols\n",
    "    dft = df.T\n",
    "    dft.index = pd.to_datetime(dft.index)\n",
    "\n",
    "    # remove if index is NaT\n",
    "    dft = dft[pd.notnull(dft.index)]\n",
    "    return dft"
   ]
  },
  {
   "cell_type": "code",
   "execution_count": 2,
   "metadata": {
    "collapsed": true,
    "deletable": true,
    "editable": true
   },
   "outputs": [],
   "source": [
    "import pymysql\n",
    "import configparser\n",
    "\n",
    "cf = configparser.ConfigParser()\n",
    "cf.read('config.cfg')\n",
    "                               \n",
    "DB_IP = cf.get('db', 'DB_IP')\n",
    "DB_USER = cf.get('db', 'DB_USER')\n",
    "DB_PWD = cf.get('db', 'DB_PWD')\n",
    "DB_SCH = cf.get('db', 'DB_SCH')\n",
    "\n",
    "class DBManager:\n",
    "    def __init__(self):\n",
    "        self.conn = conn = pymysql.connect(host=DB_IP, user=DB_USER, password=DB_PWD, db=DB_SCH, charset='utf8mb4')\n",
    "    def __del__(self):\n",
    "        self.conn.close()\n",
    "    def get_codes(self):\n",
    "        query = \"SELECT DISTINCT code FROM data.daily_stock\"\n",
    "        cursor = self.conn.cursor()\n",
    "        cursor.execute(query)\n",
    "        return cursor.fetchall()\n",
    "    def insert_code_date(self, code, date):\n",
    "        cursor = self.conn.cursor()\n",
    "        cursor.execute(\"select count(id) as cnt from data.company_finance where code = %s and date = %s\", (code, date))\n",
    "        cnt = cursor.fetchone()[0]\n",
    "        if cnt == 0:\n",
    "            print('insert code date', code, date)\n",
    "            cursor.execute(\"INSERT INTO `data`.`company_finance` (`code`, `date`) VALUES (%s, %s)\", (code, date))\n",
    "            self.conn.commit()\n",
    "    def update_company(self, code, date, col_name, value):\n",
    "        self.insert_code_date(code, date)\n",
    "        cursor = self.conn.cursor()\n",
    "        cursor.execute(\"SELECT id, \"+ col_name +\" FROM data.company_finance WHERE code = %s and date = %s\", (code, date))\n",
    "        result = cursor.fetchone()\n",
    "        cf_id = result[0]\n",
    "        origin = result[1]\n",
    "        if str(origin) != str(value):            \n",
    "            print('update', code, date, col_name, value)\n",
    "            cursor.execute(\"UPDATE data.company_finance SET \" + col_name + \" = %s WHERE id = %s\", (value, cf_id))\n",
    "            self.conn.commit()\n",
    "    "
   ]
  },
  {
   "cell_type": "code",
   "execution_count": null,
   "metadata": {
    "collapsed": true
   },
   "outputs": [],
   "source": [
    "import math\n",
    "import re\n",
    "def insert_code_finance_data(code):\n",
    "    df = get_finstate_naver(code)\n",
    "    for header in HEADERS:\n",
    "        data = df[header]\n",
    "        for idx in range(len(data)):\n",
    "            keys = data.keys()\n",
    "            date = pd.to_datetime(keys[idx], format='%Y%m%d', errors='ignore').date()\n",
    "            column = DB_COLUMNS[HEADERS.index(header)]\n",
    "            value = data[idx].item()\n",
    "            if math.isnan(value):\n",
    "                print('nan')\n",
    "                continue\n",
    "            db.update_company(code, date, column, value)"
   ]
  },
  {
   "cell_type": "code",
   "execution_count": null,
   "metadata": {
    "collapsed": true
   },
   "outputs": [],
   "source": [
    "db = DBManager()\n",
    "for code in db.get_codes():    \n",
    "    num_code = re.findall('\\d+', code[0])[0]\n",
    "    insert_code_finance_data(num_code)"
   ]
  },
  {
   "cell_type": "code",
   "execution_count": null,
   "metadata": {
    "collapsed": true
   },
   "outputs": [],
   "source": []
  }
 ],
 "metadata": {
  "kernelspec": {
   "display_name": "Python 3",
   "language": "python",
   "name": "python3"
  },
  "language_info": {
   "codemirror_mode": {
    "name": "ipython",
    "version": 3
   },
   "file_extension": ".py",
   "mimetype": "text/x-python",
   "name": "python",
   "nbconvert_exporter": "python",
   "pygments_lexer": "ipython3",
   "version": "3.5.3"
  }
 },
 "nbformat": 4,
 "nbformat_minor": 2
}
